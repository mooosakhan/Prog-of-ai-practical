{
 "cells": [
  {
   "cell_type": "code",
   "execution_count": null,
   "id": "4a55692e",
   "metadata": {
    "vscode": {
     "languageId": "plaintext"
    }
   },
   "outputs": [],
   "source": [
    "import pandas as pd"
   ]
  },
  {
   "cell_type": "code",
   "execution_count": null,
   "id": "c0212785",
   "metadata": {
    "vscode": {
     "languageId": "plaintext"
    }
   },
   "outputs": [],
   "source": [
    "df = pd.read_csv(\"mystery_data.csv\")"
   ]
  },
  {
   "cell_type": "code",
   "execution_count": null,
   "id": "12417e4b",
   "metadata": {
    "vscode": {
     "languageId": "plaintext"
    }
   },
   "outputs": [],
   "source": [
    "df.columns = ['ID', 'Gender', 'Math', 'Science', 'Study hours']\n",
    "\n"
   ]
  },
  {
   "cell_type": "code",
   "execution_count": null,
   "id": "c18a7bf7",
   "metadata": {
    "vscode": {
     "languageId": "plaintext"
    }
   },
   "outputs": [],
   "source": [
    "df.rename(columns={\n",
    "    'ID': 'Student ID', \n",
    "    'Gender': 'Gender (Male/Female)', \n",
    "    'Math': 'Math Score',\n",
    "    'Science': 'Science Score',\n",
    "    'Study hours': 'Average Study Hours'\n",
    "}, inplace=True)\n"
   ]
  },
  {
   "cell_type": "code",
   "execution_count": null,
   "id": "ddaf7f93",
   "metadata": {
    "vscode": {
     "languageId": "plaintext"
    }
   },
   "outputs": [],
   "source": [
    "\n",
    "\n",
    "print(df.head())"
   ]
  },
  {
   "cell_type": "markdown",
   "id": "f5ab4557",
   "metadata": {},
   "source": [
    "#Part B"
   ]
  },
  {
   "cell_type": "code",
   "execution_count": null,
   "id": "76d0cfa1",
   "metadata": {
    "vscode": {
     "languageId": "plaintext"
    }
   },
   "outputs": [],
   "source": [
    "df['Average Study Hours'] = pd.to_numeric(df['Average Study Hours'])\n",
    "\n",
    "\n"
   ]
  },
  {
   "cell_type": "code",
   "execution_count": null,
   "id": "390a7048",
   "metadata": {
    "vscode": {
     "languageId": "plaintext"
    }
   },
   "outputs": [],
   "source": [
    "df = df[df['Average Study Hours'].notna()]"
   ]
  },
  {
   "cell_type": "code",
   "execution_count": null,
   "id": "bec5224a",
   "metadata": {
    "vscode": {
     "languageId": "plaintext"
    }
   },
   "outputs": [],
   "source": [
    "df['Total Score'] = df['Math Score'] + df['Science Score']\n",
    "oa"
   ]
  },
  {
   "cell_type": "code",
   "execution_count": null,
   "id": "4866ace2",
   "metadata": {
    "vscode": {
     "languageId": "plaintext"
    }
   },
   "outputs": [],
   "source": [
    "print(df.sort_values(by=\"Total Score\",ascending=False).head(5))"
   ]
  },
  {
   "cell_type": "markdown",
   "id": "8956a5fa",
   "metadata": {},
   "source": [
    "#parct C"
   ]
  },
  {
   "cell_type": "code",
   "execution_count": null,
   "id": "6a48b323",
   "metadata": {
    "vscode": {
     "languageId": "plaintext"
    }
   },
   "outputs": [],
   "source": [
    "completed via viva "
   ]
  }
 ],
 "metadata": {
  "language_info": {
   "name": "python"
  }
 },
 "nbformat": 4,
 "nbformat_minor": 5
}
